{
  "nbformat": 4,
  "nbformat_minor": 0,
  "metadata": {
    "colab": {
      "name": "41.ipynb",
      "provenance": [],
      "collapsed_sections": [],
      "authorship_tag": "ABX9TyOCA9YR2/sOKu1Ilo017c+V",
      "include_colab_link": true
    },
    "kernelspec": {
      "name": "python3",
      "display_name": "Python 3"
    },
    "language_info": {
      "name": "python"
    }
  },
  "cells": [
    {
      "cell_type": "markdown",
      "metadata": {
        "id": "view-in-github",
        "colab_type": "text"
      },
      "source": [
        "<a href=\"https://colab.research.google.com/github/diamondrel/robert_lederer_ml-2022/blob/main/200/41.ipynb\" target=\"_parent\"><img src=\"https://colab.research.google.com/assets/colab-badge.svg\" alt=\"Open In Colab\"/></a>"
      ]
    },
    {
      "cell_type": "code",
      "source": [
        "while(True):\n",
        "  print(\"Starting number = \")\n",
        "  num = int(input())\n",
        "  if(num%2==1):\n",
        "    num+=1\n",
        "  for i in range(0,9):\n",
        "    print(num)\n",
        "    num+=2"
      ],
      "metadata": {
        "id": "rSYk1ZjxRMHN"
      },
      "execution_count": null,
      "outputs": []
    },
    {
      "cell_type": "code",
      "execution_count": 15,
      "metadata": {
        "id": "zMmxVvCYI3YV",
        "colab": {
          "base_uri": "https://localhost:8080/"
        },
        "outputId": "c5689e00-075e-49fc-f6b3-d29373f72937"
      },
      "outputs": [
        {
          "name": "stdout",
          "output_type": "stream",
          "text": [
            "Starting number = \n",
            "3\n",
            "3\n",
            "5\n",
            "8\n",
            "13\n",
            "21\n",
            "34\n",
            "55\n",
            "89\n",
            "144\n",
            "Continue? Y/N\n",
            "n\n"
          ]
        }
      ],
      "source": [
        "cont=True\n",
        "while(cont):\n",
        "  print(\"Starting number = \")\n",
        "  num = int(input())\n",
        "  i=0\n",
        "  j=1\n",
        "  while i!=num and i<num:\n",
        "    temp=i\n",
        "    i+=j\n",
        "    j=temp\n",
        "  if i<=num:\n",
        "    for n in range(0,9):\n",
        "      print(i)\n",
        "      temp=i\n",
        "      i+=j\n",
        "      j=temp\n",
        "  print(\"Continue? Y/N\")\n",
        "  inp=lower(input())\n",
        "  if inp==\"y\":\n",
        "    cont=True\n",
        "  else:\n",
        "    cont=False"
      ]
    },
    {
      "cell_type": "code",
      "source": [
        "print(\"String:\")\n",
        "inp=input()\n",
        "for i in range(inp):\n",
        "  "
      ],
      "metadata": {
        "id": "NoJxSXdPUQS6"
      },
      "execution_count": null,
      "outputs": []
    }
  ]
}