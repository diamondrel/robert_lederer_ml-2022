{
  "nbformat": 4,
  "nbformat_minor": 0,
  "metadata": {
    "colab": {
      "name": "Unit 21",
      "provenance": [],
      "collapsed_sections": [],
      "authorship_tag": "ABX9TyO7KBtQ3EmzttLyWi/tY/qD",
      "include_colab_link": true
    },
    "kernelspec": {
      "name": "python3",
      "display_name": "Python 3"
    },
    "language_info": {
      "name": "python"
    }
  },
  "cells": [
    {
      "cell_type": "markdown",
      "metadata": {
        "id": "view-in-github",
        "colab_type": "text"
      },
      "source": [
        "<a href=\"https://colab.research.google.com/github/diamondrel/robert_lederer_ml-2022/blob/main/200/Unit_21.ipynb\" target=\"_parent\"><img src=\"https://colab.research.google.com/assets/colab-badge.svg\" alt=\"Open In Colab\"/></a>"
      ]
    },
    {
      "cell_type": "code",
      "execution_count": null,
      "metadata": {
        "id": "MY3c-DIWvdsF"
      },
      "outputs": [],
      "source": [
        "import doctest\n",
        "def ageCategory1(age):\n",
        "  if(age<5):\n",
        "    print(\"Toddler\")\n",
        "  elif(age<=10):\n",
        "    print(\"Child\")\n",
        "  elif(age<=20):\n",
        "    print(\"Young Adult\")\n",
        "  elif(age<=64):\n",
        "    print(\"Adult\")\n",
        "  else:\n",
        "    print(\"Senior\")"
      ]
    },
    {
      "cell_type": "code",
      "source": [
        "def ageCategory2(age):\n",
        "  if(age<5):\n",
        "    return \"Toddler\"\n",
        "  elif(age<=10):\n",
        "    return \"Child\"\n",
        "  elif(age<=20):\n",
        "    return \"Young Adult\"\n",
        "  elif(age<=64):\n",
        "    return \"Adult\"\n",
        "  else:\n",
        "    return \"Senior\""
      ],
      "metadata": {
        "id": "wCyytQZylqD9"
      },
      "execution_count": null,
      "outputs": []
    },
    {
      "cell_type": "code",
      "source": [
        "def ageCategory3(name1, age1, name2, age2):\n",
        "  message=\"\"\n",
        "  if(age1<5):\n",
        "    message=name1+\" Toddler\"\n",
        "  elif(age1<=10):\n",
        "    message=name1+\" Child\"\n",
        "  elif(age1<=20):\n",
        "    message=name1+\" Young Adult\"\n",
        "  elif(age1<=64):\n",
        "    message=name1+\" Adult\"\n",
        "  else:\n",
        "    message=name1+\" Senior\"\n",
        "  if(age2<5):\n",
        "    message+=\" and \"+name2+\" Toddler\"\n",
        "  elif(age2<=10):\n",
        "    message+=\" and \"+name2+\" Child\"\n",
        "  elif(age2<=20):\n",
        "    message+=\" and \"+name2+\" Young Adult\"\n",
        "  elif(age2<=64):\n",
        "    message+=\" and \"+name2+\" Adult\"\n",
        "  else:\n",
        "    message+=\" and \"+name2+\" Senior\"\n",
        "  return message"
      ],
      "metadata": {
        "id": "W49rArOHnJcd"
      },
      "execution_count": null,
      "outputs": []
    },
    {
      "cell_type": "code",
      "source": [
        "ageCategory1(20)\n",
        "print(ageCategory2(10))\n",
        "print(ageCategory3(\"John\",21,\"Thomas\",65))"
      ],
      "metadata": {
        "colab": {
          "base_uri": "https://localhost:8080/"
        },
        "id": "mIEcOzBjsliM",
        "outputId": "20c66cb2-4977-45e8-e1b3-6f5fc8935f95"
      },
      "execution_count": null,
      "outputs": [
        {
          "output_type": "stream",
          "name": "stdout",
          "text": [
            "Young Adult\n",
            "Child\n",
            "John Adult and Thomas Senior\n"
          ]
        }
      ]
    },
    {
      "cell_type": "code",
      "source": [
        "\"\"\"\n",
        "#Test the following functions:\n",
        "#ageCategory1(age), ageCategory2(age), ageCategory3(name1,age1,name2,age2)\n",
        "  >>> ageCategory1(20)\n",
        "  Young Adult\n",
        "  >>> ageCategory2(10)\n",
        "  'Child'\n",
        "  >>> ageCategory3(\"John\",21,\"Thomas\",65)\n",
        "  'John Adult and Thomas Senior'\n",
        "\"\"\"\n",
        "doctest.testmod()"
      ],
      "metadata": {
        "colab": {
          "base_uri": "https://localhost:8080/"
        },
        "id": "ul2Dx9FVv_tW",
        "outputId": "0fc2fda5-24c2-4926-fcac-70b05d67fba9"
      },
      "execution_count": null,
      "outputs": [
        {
          "output_type": "execute_result",
          "data": {
            "text/plain": [
              "TestResults(failed=0, attempted=3)"
            ]
          },
          "metadata": {},
          "execution_count": 14
        }
      ]
    }
  ]
}