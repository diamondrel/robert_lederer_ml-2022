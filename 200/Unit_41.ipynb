{
  "nbformat": 4,
  "nbformat_minor": 0,
  "metadata": {
    "colab": {
      "name": "Unit 41.ipynb",
      "provenance": [],
      "collapsed_sections": [],
      "authorship_tag": "ABX9TyNSEEXlACdj/0xiXbWLzzOS",
      "include_colab_link": true
    },
    "kernelspec": {
      "name": "python3",
      "display_name": "Python 3"
    },
    "language_info": {
      "name": "python"
    }
  },
  "cells": [
    {
      "cell_type": "markdown",
      "metadata": {
        "id": "view-in-github",
        "colab_type": "text"
      },
      "source": [
        "<a href=\"https://colab.research.google.com/github/diamondrel/robert_lederer_ml-2022/blob/main/200/Unit_41.ipynb\" target=\"_parent\"><img src=\"https://colab.research.google.com/assets/colab-badge.svg\" alt=\"Open In Colab\"/></a>"
      ]
    },
    {
      "cell_type": "code",
      "source": [
        "cont=True\n",
        "while(cont):\n",
        "  print(\"Starting number = \")\n",
        "  num = int(input())\n",
        "  if(num%2==1):\n",
        "    num+=1\n",
        "  for i in range(9):\n",
        "    print(num)\n",
        "    num+=2\n",
        "  print(\"Continue? Y/N\")\n",
        "  cont = input().lower()==\"y\""
      ],
      "metadata": {
        "id": "rSYk1ZjxRMHN",
        "colab": {
          "base_uri": "https://localhost:8080/",
          "height": 0
        },
        "outputId": "48aac5ba-cad4-4d3b-ae34-34b581a6b59c"
      },
      "execution_count": 11,
      "outputs": [
        {
          "name": "stdout",
          "output_type": "stream",
          "text": [
            "Starting number = \n",
            "5\n",
            "6\n",
            "8\n",
            "10\n",
            "12\n",
            "14\n",
            "16\n",
            "18\n",
            "20\n",
            "22\n",
            "Continue? Y/N\n",
            "n\n"
          ]
        }
      ]
    },
    {
      "cell_type": "code",
      "execution_count": 9,
      "metadata": {
        "id": "zMmxVvCYI3YV",
        "colab": {
          "base_uri": "https://localhost:8080/",
          "height": 0
        },
        "outputId": "8b28e551-36b6-4b74-da37-cd59d6a3f1a2"
      },
      "outputs": [
        {
          "name": "stdout",
          "output_type": "stream",
          "text": [
            "Starting number = \n",
            "3\n",
            "3\n",
            "5\n",
            "8\n",
            "13\n",
            "21\n",
            "34\n",
            "55\n",
            "89\n",
            "144\n",
            "Continue? Y/N\n",
            "n\n"
          ]
        }
      ],
      "source": [
        "cont=True\n",
        "while(cont):\n",
        "  print(\"Starting number = \")\n",
        "  num = int(input())\n",
        "  i=0\n",
        "  j=1\n",
        "  while i!=num and i<num:\n",
        "    temp=i\n",
        "    i+=j\n",
        "    j=temp\n",
        "  if i<=num:\n",
        "    for n in range(9):\n",
        "      print(i)\n",
        "      temp=i\n",
        "      i+=j\n",
        "      j=temp\n",
        "  print(\"Continue? Y/N\")\n",
        "  cont = input().lower()==\"y\"\n"
      ]
    },
    {
      "cell_type": "code",
      "source": [
        "print(\"String:\")\n",
        "inp=input()\n",
        "res=\"\"\n",
        "for i in range(len(inp)):\n",
        "  print(inp[i])\n",
        "  if(i%2==0):\n",
        "    res+=inp[i].upper()\n",
        "  else:\n",
        "    res+=inp[i].lower()\n",
        "print(res)"
      ],
      "metadata": {
        "colab": {
          "base_uri": "https://localhost:8080/"
        },
        "id": "NoJxSXdPUQS6",
        "outputId": "efbe9298-666f-4ae8-c1e5-ea936d25b665"
      },
      "execution_count": null,
      "outputs": [
        {
          "output_type": "stream",
          "name": "stdout",
          "text": [
            "String:\n",
            "elephant\n",
            "e\n",
            "l\n",
            "e\n",
            "p\n",
            "h\n",
            "a\n",
            "n\n",
            "t\n",
            "ElEpHaNt\n"
          ]
        }
      ]
    },
    {
      "cell_type": "code",
      "source": [
        "import math\n",
        "cont=True\n",
        "while(cont):\n",
        "  start=0\n",
        "  while start<5 or start>50:\n",
        "    print(\"Input a number between 5 and 50\")\n",
        "    start=int(input())\n",
        "  primeList = []\n",
        "  j=1\n",
        "  while len(primeList)<start:\n",
        "    j+=2\n",
        "    i=3\n",
        "    keep=True\n",
        "    while i<=math.ceil(j/2) and keep:\n",
        "      keep=not((j/i)%1==0.0)\n",
        "      i+=2\n",
        "    if keep:\n",
        "      primeList.append(j)\n",
        "\n",
        "  for i in range(start):\n",
        "    print(primeList[i])\n",
        "  print(\"Continue? Y/N\")\n",
        "  cont = input().lower()==\"y\"\n"
      ],
      "metadata": {
        "colab": {
          "base_uri": "https://localhost:8080/",
          "height": 0
        },
        "id": "nPHDCDGfaM--",
        "outputId": "89dfc6f5-0aa2-4244-f7c0-f922794a44c2"
      },
      "execution_count": 8,
      "outputs": [
        {
          "name": "stdout",
          "output_type": "stream",
          "text": [
            "Input a number between 5 and 50\n",
            "6\n",
            "3\n",
            "5\n",
            "7\n",
            "11\n",
            "13\n",
            "17\n",
            "Continue? Y/N\n",
            "n\n"
          ]
        }
      ]
    }
  ]
}