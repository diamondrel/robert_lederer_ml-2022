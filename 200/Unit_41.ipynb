{
  "nbformat": 4,
  "nbformat_minor": 0,
  "metadata": {
    "colab": {
      "name": "Unit 41.ipynb",
      "provenance": [],
      "collapsed_sections": [],
      "authorship_tag": "ABX9TyM5C0o62yfUeXf95H1MmpE2",
      "include_colab_link": true
    },
    "kernelspec": {
      "name": "python3",
      "display_name": "Python 3"
    },
    "language_info": {
      "name": "python"
    }
  },
  "cells": [
    {
      "cell_type": "markdown",
      "metadata": {
        "id": "view-in-github",
        "colab_type": "text"
      },
      "source": [
        "<a href=\"https://colab.research.google.com/github/diamondrel/robert_lederer_ml-2022/blob/main/200/Unit_41.ipynb\" target=\"_parent\"><img src=\"https://colab.research.google.com/assets/colab-badge.svg\" alt=\"Open In Colab\"/></a>"
      ]
    },
    {
      "cell_type": "code",
      "source": [
        "import math"
      ],
      "metadata": {
        "id": "aUOxwiPmhv-0"
      },
      "execution_count": null,
      "outputs": []
    },
    {
      "cell_type": "code",
      "source": [
        "while(True):\n",
        "  print(\"Starting number = \")\n",
        "  num = int(input())\n",
        "  if(num%2==1):\n",
        "    num+=1\n",
        "  for i in range(9):\n",
        "    print(num)\n",
        "    num+=2"
      ],
      "metadata": {
        "id": "rSYk1ZjxRMHN"
      },
      "execution_count": null,
      "outputs": []
    },
    {
      "cell_type": "code",
      "execution_count": null,
      "metadata": {
        "id": "zMmxVvCYI3YV",
        "colab": {
          "base_uri": "https://localhost:8080/"
        },
        "outputId": "c5689e00-075e-49fc-f6b3-d29373f72937"
      },
      "outputs": [
        {
          "name": "stdout",
          "output_type": "stream",
          "text": [
            "Starting number = \n",
            "3\n",
            "3\n",
            "5\n",
            "8\n",
            "13\n",
            "21\n",
            "34\n",
            "55\n",
            "89\n",
            "144\n",
            "Continue? Y/N\n",
            "n\n"
          ]
        }
      ],
      "source": [
        "cont=True\n",
        "while(cont):\n",
        "  print(\"Starting number = \")\n",
        "  num = int(input())\n",
        "  i=0\n",
        "  j=1\n",
        "  while i!=num and i<num:\n",
        "    temp=i\n",
        "    i+=j\n",
        "    j=temp\n",
        "  if i<=num:\n",
        "    for n in range(9):\n",
        "      print(i)\n",
        "      temp=i\n",
        "      i+=j\n",
        "      j=temp\n",
        "  print(\"Continue? Y/N\")\n",
        "  inp=lower(input())\n",
        "  if inp==\"y\":\n",
        "    cont=True\n",
        "  else:\n",
        "    cont=False"
      ]
    },
    {
      "cell_type": "code",
      "source": [
        "print(\"String:\")\n",
        "inp=input()\n",
        "res=\"\"\n",
        "for i in range(len(inp)):\n",
        "  print(inp[i])\n",
        "  if(i%2==0):\n",
        "    res+=inp[i].upper()\n",
        "  else:\n",
        "    res+=inp[i].lower()\n",
        "print(res)"
      ],
      "metadata": {
        "colab": {
          "base_uri": "https://localhost:8080/"
        },
        "id": "NoJxSXdPUQS6",
        "outputId": "efbe9298-666f-4ae8-c1e5-ea936d25b665"
      },
      "execution_count": null,
      "outputs": [
        {
          "output_type": "stream",
          "name": "stdout",
          "text": [
            "String:\n",
            "elephant\n",
            "e\n",
            "l\n",
            "e\n",
            "p\n",
            "h\n",
            "a\n",
            "n\n",
            "t\n",
            "ElEpHaNt\n"
          ]
        }
      ]
    },
    {
      "cell_type": "code",
      "source": [
        "cont=True\n",
        "while(cont):\n",
        "  start=0\n",
        "  while start<5 or start>50:\n",
        "    print(\"Input a number between 5 and 50\")\n",
        "    start=int(input())\n",
        "  primeList = []\n",
        "  j=2\n",
        "  while len(primeList)<start:\n",
        "    j+=1\n",
        "    i=2\n",
        "    keep=True\n",
        "    while i<=math.ceil(j/2) and keep:\n",
        "      keep=not((j/i)%1==0.0)\n",
        "      i+=1\n",
        "    if keep:\n",
        "      primeList.append(j)\n",
        "\n",
        "  for i in range(start):\n",
        "    print(primeList[i])\n",
        "  print(\"Continue? Y/N\")\n",
        "  if(input().lower())"
      ],
      "metadata": {
        "colab": {
          "base_uri": "https://localhost:8080/"
        },
        "id": "nPHDCDGfaM--",
        "outputId": "73aeea8c-3348-4556-acbb-405e4df9733a"
      },
      "execution_count": null,
      "outputs": [
        {
          "output_type": "stream",
          "name": "stdout",
          "text": [
            "Input a number between 5 and 50\n",
            "8\n",
            "3\n",
            "5\n",
            "7\n",
            "11\n",
            "13\n",
            "17\n",
            "19\n",
            "23\n"
          ]
        }
      ]
    }
  ]
}