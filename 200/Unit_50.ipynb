{
  "nbformat": 4,
  "nbformat_minor": 0,
  "metadata": {
    "colab": {
      "name": "Unit 50.ipynb",
      "provenance": [],
      "authorship_tag": "ABX9TyMITXf9X5tcDNT1RJoEfXWG",
      "include_colab_link": true
    },
    "kernelspec": {
      "name": "python3",
      "display_name": "Python 3"
    },
    "language_info": {
      "name": "python"
    }
  },
  "cells": [
    {
      "cell_type": "markdown",
      "metadata": {
        "id": "view-in-github",
        "colab_type": "text"
      },
      "source": [
        "<a href=\"https://colab.research.google.com/github/diamondrel/robert_lederer_ml-2022/blob/main/200/Unit_50.ipynb\" target=\"_parent\"><img src=\"https://colab.research.google.com/assets/colab-badge.svg\" alt=\"Open In Colab\"/></a>"
      ]
    },
    {
      "cell_type": "code",
      "execution_count": 8,
      "metadata": {
        "colab": {
          "base_uri": "https://localhost:8080/"
        },
        "id": "Z4qI1hvDOFHc",
        "outputId": "5782073d-da2d-4134-9ee8-bfc615b0133d"
      },
      "outputs": [
        {
          "output_type": "stream",
          "name": "stdout",
          "text": [
            "gotcha! 1\n"
          ]
        }
      ],
      "source": [
        "import random\n",
        "\n",
        "def randThree():\n",
        "  num=random.randint(1,10)\n",
        "  i=1\n",
        "  while num%3!=0:\n",
        "    i+=1\n",
        "    num=random.randint(1,10)\n",
        "  print(\"gotcha! \"+str(i))\n",
        "\n",
        "randThree()"
      ]
    },
    {
      "cell_type": "code",
      "source": [
        "import random\n",
        "\n",
        "def randChoose():\n",
        "  num="
      ],
      "metadata": {
        "id": "WrtDlz9fRDfV"
      },
      "execution_count": null,
      "outputs": []
    }
  ]
}