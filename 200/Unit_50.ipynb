{
  "nbformat": 4,
  "nbformat_minor": 0,
  "metadata": {
    "colab": {
      "name": "Unit 50.ipynb",
      "provenance": [],
      "authorship_tag": "ABX9TyNFT38yvlQ93Xj020jg01+G",
      "include_colab_link": true
    },
    "kernelspec": {
      "name": "python3",
      "display_name": "Python 3"
    },
    "language_info": {
      "name": "python"
    }
  },
  "cells": [
    {
      "cell_type": "markdown",
      "metadata": {
        "id": "view-in-github",
        "colab_type": "text"
      },
      "source": [
        "<a href=\"https://colab.research.google.com/github/diamondrel/robert_lederer_ml-2022/blob/main/200/Unit_50.ipynb\" target=\"_parent\"><img src=\"https://colab.research.google.com/assets/colab-badge.svg\" alt=\"Open In Colab\"/></a>"
      ]
    },
    {
      "cell_type": "code",
      "execution_count": 14,
      "metadata": {
        "colab": {
          "base_uri": "https://localhost:8080/"
        },
        "id": "Z4qI1hvDOFHc",
        "outputId": "bcbf62fd-8efa-4b8c-f9af-04a4429adffc"
      },
      "outputs": [
        {
          "output_type": "stream",
          "name": "stdout",
          "text": [
            "gotcha! 2\n"
          ]
        }
      ],
      "source": [
        "import random\n",
        "\n",
        "def randThree():\n",
        "  num=random.randint(1,10)\n",
        "  i=1\n",
        "  while num%3!=0:\n",
        "    i+=1\n",
        "    num=random.randint(1,10)\n",
        "  print(\"gotcha! \"+str(i))\n",
        "\n",
        "randThree()"
      ]
    },
    {
      "cell_type": "code",
      "source": [
        "import random\n",
        "\n",
        "def randChoose():\n",
        "  cont=True\n",
        "  while(cont):\n",
        "    divisor=0\n",
        "    while divisor<1 or divisor>99:\n",
        "      divisor=int(input(\"Choose a number from 1-99 \"))\n",
        "    num=random.randint(1,900)\n",
        "    i=1\n",
        "    while num%divisor!=0:\n",
        "      i+=1\n",
        "      num=random.randint(1,900)\n",
        "    print(\"You win! \"+str(i)+\" attempts.\")\n",
        "    cont=str(input(\"\\nContinue? (Y/N) \")).lower()==\"y\"\n",
        "\n",
        "randChoose()"
      ],
      "metadata": {
        "colab": {
          "base_uri": "https://localhost:8080/"
        },
        "id": "WrtDlz9fRDfV",
        "outputId": "c3ae0244-9f42-45b9-c1d4-0cb8f264dd8d"
      },
      "execution_count": 15,
      "outputs": [
        {
          "name": "stdout",
          "output_type": "stream",
          "text": [
            "Choose a number from 1-99\n",
            "5\n",
            "You win! 1 attempts.\n",
            "\n",
            "Continue? (Y/N)y\n",
            "Choose a number from 1-99\n",
            "99\n",
            "You win! 22 attempts.\n",
            "\n",
            "Continue? (Y/N)n\n"
          ]
        }
      ]
    }
  ]
}